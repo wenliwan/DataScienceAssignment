{
 "cells": [
  {
   "cell_type": "markdown",
   "id": "b92232bb-bb9c-4797-bc14-ef345f8eabc3",
   "metadata": {},
   "source": [
    "# Data Science Tools and Ecosystem"
   ]
  },
  {
   "cell_type": "markdown",
   "id": "7d93dedf-18b2-4f70-9609-6c81eb805123",
   "metadata": {},
   "source": [
    "In this notebook, Data Science Tools and Ecosystem are summarized."
   ]
  },
  {
   "cell_type": "markdown",
   "id": "73ca16aa-655c-4da1-8b7b-95dacc619cf0",
   "metadata": {},
   "source": [
    " **Objectives:**\n",
    "* Learn some popular languages used by Data Scientists\n",
    "* Learn some popular libraries used by Data Scientists\n",
    "* Learn some popular coding environment used by Data Scientists"
   ]
  },
  {
   "cell_type": "markdown",
   "id": "d4b4ba68-0d3f-4bd7-9425-40911784b515",
   "metadata": {},
   "source": [
    "## Some of the popular languages that Data Scientists use are:\n",
    "1. Python\n",
    "2. R\n",
    "3. Java"
   ]
  },
  {
   "cell_type": "markdown",
   "id": "e1b30c67-f05b-4a81-8307-2c4905c43fce",
   "metadata": {},
   "source": [
    "## Some of the commonly used libraries used by Data Scientists include:\n",
    "1. Numpy\n",
    "2. Tensorflow\n",
    "3. GGplot"
   ]
  },
  {
   "cell_type": "markdown",
   "id": "48df3372-816c-4234-98b1-341f74c8c75c",
   "metadata": {},
   "source": [
    "| Data Science Tools |\n",
    "|------------------|\n",
    "|Spyder|\n",
    "|Pycharm|\n",
    "|Jupyter notebook |\n"
   ]
  },
  {
   "cell_type": "code",
   "execution_count": null,
   "id": "134effff-2082-4f35-b9ad-39e0f53ffc6a",
   "metadata": {},
   "outputs": [],
   "source": [
    "### Below are a few examples of evaluating arithmetic expressions in Python"
   ]
  },
  {
   "cell_type": "code",
   "execution_count": 4,
   "id": "d7c1d430-a436-4e5a-9ca3-fb0101e9325f",
   "metadata": {},
   "outputs": [
    {
     "data": {
      "text/plain": [
       "17"
      ]
     },
     "execution_count": 4,
     "metadata": {},
     "output_type": "execute_result"
    }
   ],
   "source": [
    "# This a simple arithmetic expression to mutiply then add integers\n",
    "(3*4)+5"
   ]
  },
  {
   "cell_type": "code",
   "execution_count": 5,
   "id": "d497f1da-e63c-4a2c-9cd5-91365cb7a26a",
   "metadata": {},
   "outputs": [
    {
     "data": {
      "text/plain": [
       "3.3333333333333335"
      ]
     },
     "execution_count": 5,
     "metadata": {},
     "output_type": "execute_result"
    }
   ],
   "source": [
    "# This will convert 200 minutes to hours by diving by 60\n",
    "200/60"
   ]
  },
  {
   "cell_type": "markdown",
   "id": "e5033f01-7a61-442e-86c3-9db2c3823efc",
   "metadata": {},
   "source": [
    "## Author: \n",
    "Wenli Wang"
   ]
  },
  {
   "cell_type": "code",
   "execution_count": null,
   "id": "791b7979-548b-4f6d-8081-a31e6206389e",
   "metadata": {},
   "outputs": [],
   "source": []
  }
 ],
 "metadata": {
  "kernelspec": {
   "display_name": "Python 3 (ipykernel)",
   "language": "python",
   "name": "python3"
  },
  "language_info": {
   "codemirror_mode": {
    "name": "ipython",
    "version": 3
   },
   "file_extension": ".py",
   "mimetype": "text/x-python",
   "name": "python",
   "nbconvert_exporter": "python",
   "pygments_lexer": "ipython3",
   "version": "3.9.5"
  }
 },
 "nbformat": 4,
 "nbformat_minor": 5
}
